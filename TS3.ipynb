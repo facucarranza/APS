{
 "cells": [
  {
   "cell_type": "markdown",
   "id": "058aa2da-a54a-424c-aaf7-a4d53a25b186",
   "metadata": {},
   "source": [
    "## Tarea Semanal 3, Facundo Ivan Carranza"
   ]
  },
  {
   "cell_type": "markdown",
   "id": "a822564a-84ec-4807-a7cf-b8d761bd9f8c",
   "metadata": {},
   "source": [
    "#### En esta tarea se analiza un fenómeno particular que surge al calcular la Transformada Discreta de Fourier (DFT): el desparramo espectral. Este efecto ocurre cuando la frecuencia de una señal senoidal no coincide exactamente con los múltiplos de la resolución espectral de la DFT, provocando que la energía de la señal se distribuya sobre varias frecuencias en lugar de concentrarse en un único valor.\n",
    "\n",
    "#### El objetivo del trabajo es estudiar cómo pequeñas desintonías en la frecuencia de una señal afectan su espectro de potencia, verificar la potencia de la señal mediante la identidad de Parseval, y explorar la técnica de zero padding para mejorar la resolución espectral y observar cómo cambia la representación de la señal en el dominio de la frecuencia.\n",
    "\n",
    "#### Este análisis permite comprender mejor las limitaciones prácticas de la DFT y la importancia de la resolución espectral al trabajar con señales discretas"
   ]
  },
  {
   "cell_type": "markdown",
   "id": "7e60dc8a-9d27-400a-a2be-3d23147a623d",
   "metadata": {},
   "source": [
    "## Introduccion Teorica"
   ]
  },
  {
   "cell_type": "markdown",
   "id": "0b4d21ab-5c85-4ea5-b405-2ba22887ff87",
   "metadata": {},
   "source": [
    "#### La DFT (Transformada Discreta de Fourier) permite representar señales discretas en el dominio de la frecuencia. Su resolución está determinada por Δf = f_s / N, donde f_s es la frecuencia de muestreo y N el número de muestras.\n",
    "\n",
    "#### Cuando la frecuencia de una señal senoidal no coincide exactamente con un múltiplo de Δf, ocurre el desparramo espectral, distribuyendo la energía de la señal sobre varias frecuencias. La identidad de Parseval asegura que la energía total de la señal se conserva entre el dominio del tiempo y el de la frecuencia.\n",
    "\n",
    "#### Además, mediante zero padding es posible aumentar la resolución espectral aparente, facilitando la visualización de los picos de frecuencia de la señal."
   ]
  },
  {
   "cell_type": "markdown",
   "id": "c2837d17-b9e5-4bff-9e7e-01c06a4b5169",
   "metadata": {},
   "source": [
    "## Analisis y desarrollo"
   ]
  },
  {
   "cell_type": "markdown",
   "id": "2161c29c-c485-437c-922f-8389269e66a5",
   "metadata": {},
   "source": [
    "### Ejercicio A"
   ]
  },
  {
   "cell_type": "markdown",
   "id": "8c7fac3a-4892-4536-af30-8ed45ea1ea28",
   "metadata": {},
   "source": [
    "#### Importamos nuestras librerias necesarias y defino las funciones que usare para generar mis señales.\n",
    "#### Ademas defino las variables necesarias y genero las señales."
   ]
  },
  {
   "cell_type": "code",
   "execution_count": 1,
   "id": "5a0fa8d5-27a5-41be-9dc9-9afa0d084fa6",
   "metadata": {
    "jupyter": {
     "source_hidden": true
    }
   },
   "outputs": [],
   "source": [
    "#%% Importo librerias\n",
    "import numpy as np\n",
    "import matplotlib.pyplot as plt\n",
    "from numpy.fft import fft\n",
    "import scipy.signal as signal"
   ]
  },
  {
   "cell_type": "code",
   "execution_count": 2,
   "id": "c7d33171-9a06-420a-b8d2-b3d4b7c70035",
   "metadata": {
    "jupyter": {
     "source_hidden": true
    }
   },
   "outputs": [],
   "source": [
    "# Defino variables y funciones %%\n",
    "\n",
    "N = 1000      # Número de muestras\n",
    "fs = N        # Frecuencia de muestreo = 1000 Hz\n",
    "df = fs/N     # Resolución en frecuencia = 1 Hz\n",
    "ts = 1/fs     # Período de muestreo = 0.001 s\n",
    "\n",
    "def sen(ff, nn, amp=1, dc=0, ph=0, fs=2):\n",
    "    Nn = np.arange(nn)   # Vector de índices: [0, 1, 2, ..., nn-1]\n",
    "    t = Nn/fs            # Vector de tiempo\n",
    "    x = dc + amp * np.sin(2 * np.pi * ff * t + ph)   # Señal senoidal\n",
    "    return t, x\n",
    "\n",
    "t1, x1 = sen(ff=(N/4)*df, nn=N, fs=fs)\n",
    "t2, x2 = sen(ff=((N/4)+0.5)*df, nn=N, fs=fs)\n",
    "t2, x3 = sen(ff=((N/4)+0.25)*df, nn=N, fs=fs)"
   ]
  },
  {
   "cell_type": "markdown",
   "id": "43b13d22-5124-4c15-9756-c19456adb9e7",
   "metadata": {},
   "source": [
    "#### En este paso aplicamos la Transformada Discreta de Fourier (DFT) a cada una de las señales senoidales mediante la función fft. A partir del resultado obtenemos dos representaciones fundamentales:\n",
    "\n",
    "- El módulo (o magnitud), que muestra cómo se distribuye la energía de la señal en las distintas frecuencias.\n",
    "- El ángulo (o fase), que indica el desfase de cada componente espectral.\n",
    "\n",
    "#### Finalmente, definimos el vector de frecuencias Ff, que nos permitirá graficar los espectros y analizar visualmente el efecto del desparramo espectral al comparar las tres señales.\n",
    "\n",
    "#### Procedere a graficar la magnitud en frecuencia de cada componente usando mi vector Ff, al graficar las 3 señales cada una con una desintonia diferente veremos como se distribuyen las componentes de manera diferente, ademas como la idea es poder ver claramente el desparramo decidi poner la magnitud de cada componente en dB, donde podremos ver claramente la diferencia "
   ]
  },
  {
   "cell_type": "code",
   "execution_count": null,
   "id": "15b45c1d-7d86-49b0-8194-098ac2a73fbc",
   "metadata": {
    "jupyter": {
     "source_hidden": true
    }
   },
   "outputs": [],
   "source": [
    "plt.figure(1)\n",
    "plt.plot(Ff, 20* np.log10(X1abs), 'x', label='X1 abs')\n",
    "plt.plot(Ff, 20*np.log10(X2abs), label='X2 abs')\n",
    "plt.plot(Ff, 20*np.log10(X3abs), label='X3 abs')\n",
    "plt.xlim((0, fs/2))\n",
    "plt.title('FFT')\n",
    "plt.xlabel('Frecuencia Hz')\n",
    "plt.ylabel('Amplitud [dB]')\n",
    "plt.legend()\n",
    "plt.show()"
   ]
  },
  {
   "cell_type": "markdown",
   "id": "a31c0f09-00cd-40c4-a64e-b0b2bd7112e1",
   "metadata": {},
   "source": [
    "### Ejercicio B"
   ]
  },
  {
   "cell_type": "markdown",
   "id": "e972239b-d152-4314-be6e-eca0d48b7607",
   "metadata": {},
   "source": [
    "#### En este paso se normalizan las tres señales para que tengan varianza unitaria, es decir, una potencia normalizada que facilita la comparación entre ellas. Luego, se aplica la identidad de Parseval, que establece que la energía total de una señal en el dominio del tiempo debe ser igual a la energía en el dominio de la frecuencia.\n",
    "\n",
    "#### De esta forma, se calcula y compara la suma de los cuadrados de las muestras en el tiempo con la suma de los módulos al cuadrado de la transformada en frecuencia. La pequeña diferencia observada se debe a errores numéricos de redondeo, confirmando que la relación de Parseval se cumple."
   ]
  },
  {
   "cell_type": "code",
   "execution_count": null,
   "id": "d094b634-7459-4f6a-99b1-b23ed1de8001",
   "metadata": {
    "jupyter": {
     "source_hidden": true
    }
   },
   "outputs": [],
   "source": [
    "\n",
    "x1_norm = (x1 - np.mean(x1)) / (np.var(x1))**(1/2)\n",
    "print (\"Varianza =\", np.var(x1_norm), \" ->  SD =\", np.std(x1_norm), \" ->  Media =\", np.mean(x1_norm))\n",
    "x2_norm = (x2 - np.mean(x2)) / (np.var(x2))**(1/2)\n",
    "print (\"Varianza =\", np.var(x2_norm), \" ->  SD =\", np.std(x2_norm), \" ->  Media =\", np.mean(x2_norm))\n",
    "x3_norm = (x3 - np.mean(x1)) / (np.var(x3))**(1/2)\n",
    "print (\"Varianza =\", np.var(x3_norm), \" ->  SD =\", np.std(x3_norm), \" ->  Media =\", np.mean(x3_norm))\n",
    "\n",
    "### Verifico Parseval ###\n",
    "\n",
    "A1 = np.sum ((np.abs(x1))**2)\n",
    "B1 = np.sum ((np.abs(X1))**2) / N\n",
    "print (\"Esto es la diferencia entre Mod al cuadrado de x y X :\",A1-B1)\n",
    "A2 = np.sum ((np.abs(x2))**2)\n",
    "B2 = np.sum ((np.abs(X2))**2) / N\n",
    "print (\"Esto es la diferencia entre Mod al cuadrado de x y X :\",A2-B2)\n",
    "A3 = np.sum ((np.abs(x3))**2)\n",
    "B3 = np.sum ((np.abs(X3))**2) / N\n",
    "print (\"Esto es la diferencia entre Mod al cuadrado de x y X :\",A3-B3)"
   ]
  },
  {
   "cell_type": "markdown",
   "id": "81068fbb-21af-42f6-9874-b1e923b35c0b",
   "metadata": {},
   "source": [
    "### Ejercicio C"
   ]
  },
  {
   "cell_type": "markdown",
   "id": "fa230e2c-9dd2-4947-9ae1-1d7a008834de",
   "metadata": {},
   "source": [
    "#### En este paso se aplica la técnica de zero padding, que consiste en agregar ceros al final de la señal original. Esto no cambia la información de la señal, pero al aumentar la cantidad total de muestras permite obtener una resolución espectral más fina en la DFT.\n",
    "\n",
    "#### De esta manera, los picos en frecuencia se visualizan con mayor claridad, lo que facilita distinguir las pequeñas desintonías entre las señales. Finalmente, se grafican las magnitudes en dB para resaltar mejor las diferencias en el espectro."
   ]
  },
  {
   "cell_type": "code",
   "execution_count": null,
   "id": "3c0a496d-71d1-4f03-b59c-40b4e7856e83",
   "metadata": {
    "jupyter": {
     "source_hidden": true
    }
   },
   "outputs": [],
   "source": [
    "\n",
    "zeros = np.zeros(9 * N)\n",
    "\n",
    "x1_zp = np.concatenate([x1, zeros])\n",
    "x2_zp = np.concatenate([x2, zeros])\n",
    "x3_zp = np.concatenate([x3, zeros])\n",
    "\n",
    "# %% FFT con Zero-Padding (Magnitud en dB)\n",
    "\n",
    "# FFTs con zero padding\n",
    "X1_zp = fft(x1_zp)\n",
    "X2_zp = fft(x2_zp)\n",
    "X3_zp = fft(x3_zp)\n",
    "\n",
    "N_zp = len(x1_zp)      # Ahora = 10N\n",
    "df_zp = fs / N_zp      # Resolución espectral más fina\n",
    "freqs_zp = np.arange(N_zp) * df_zp\n",
    "\n",
    "# Magnitudes en dB (20*log10 porque es amplitud, no potencia)\n",
    "Mag1_dB = 20 * np.log10(np.abs(X1_zp))\n",
    "Mag2_dB = 20 * np.log10(np.abs(X2_zp))\n",
    "Mag3_dB = 20 * np.log10(np.abs(X3_zp))"
   ]
  },
  {
   "cell_type": "code",
   "execution_count": null,
   "id": "7d93df4f-5fd8-4ac9-9c38-32fd095990dc",
   "metadata": {
    "jupyter": {
     "source_hidden": true
    }
   },
   "outputs": [],
   "source": [
    "\n",
    "# Gráfico\n",
    "plt.figure()\n",
    "plt.plot(freqs_zp, Mag1_dB, label='Con padding')\n",
    "plt.plot(Ff, 20* np.log10(X1abs), 'x', label='Original')\n",
    "plt.xlim([0, fs/2])\n",
    "plt.title('FFT con Zero Padding k0 = N/4 (Magnitud en dB)')\n",
    "plt.xlabel('Frecuencia (Hz)')\n",
    "plt.ylabel('Magnitud [dB]')\n",
    "plt.legend()\n",
    "plt.grid(True)\n",
    "plt.show()\n",
    "\n",
    "# Gráfico\n",
    "plt.figure()\n",
    "plt.plot(freqs_zp, Mag2_dB, label='Con padding')\n",
    "plt.plot(Ff, 20*np.log10(X2abs),'x', label='Original')\n",
    "plt.xlim([0, fs/2])\n",
    "plt.title('FFT con Zero Padding k0 = N/4 + 0.5 (Magnitud en dB)')\n",
    "plt.xlabel('Frecuencia (Hz)')\n",
    "plt.ylabel('Magnitud [dB]')\n",
    "plt.legend()\n",
    "plt.grid(True)\n",
    "plt.show()\n",
    "\n",
    "# Gráfico\n",
    "plt.figure()\n",
    "plt.plot(freqs_zp, Mag3_dB, label='Con padding')\n",
    "plt.plot(Ff, 20*np.log10(X3abs),'x', label='Original')\n",
    "plt.xlim([0, fs/2])\n",
    "plt.title('FFT con Zero Padding k0 = N/4 + 0.25 (Magnitud en dB)')\n",
    "plt.xlabel('Frecuencia (Hz)')\n",
    "plt.ylabel('Magnitud [dB]')\n",
    "plt.legend()\n",
    "plt.grid(True)\n",
    "plt.show()"
   ]
  },
  {
   "cell_type": "markdown",
   "id": "303101a8-3b6a-456a-9c26-1cf0ce8d8a4c",
   "metadata": {},
   "source": [
    "### Bonus"
   ]
  },
  {
   "cell_type": "markdown",
   "id": "691f23d9-cd4b-4016-af46-c20a8cab7d8a",
   "metadata": {},
   "source": [
    "#### En este bloque se calcula y grafica la respuesta en frecuencia de un sistema definido por sus coeficientes a y 𝑏. Mediante la función freqz, se obtiene la relación entre entrada y salida en el dominio de la frecuencia:\n",
    "\n",
    "#### Primero se representa la magnitud en dB, lo que permite identificar qué frecuencias son atenuadas o amplificadas por el sistema.\n",
    "\n",
    "#### Luego se grafica la fase, que muestra cómo se modifican los desfases de las componentes espectrales de la señal.\n",
    "\n",
    "#### De esta forma se obtiene una visión completa del comportamiento del sistema en frecuencia."
   ]
  },
  {
   "cell_type": "code",
   "execution_count": null,
   "id": "61b4a339-e333-41a1-9d77-b9f448d000a2",
   "metadata": {
    "jupyter": {
     "source_hidden": true
    }
   },
   "outputs": [],
   "source": [
    "\n",
    "# Coeficientes del sistema (ejemplo)\n",
    "b = [0.03, 0.05, 0.03]   # coeficientes de x\n",
    "a = [1, -1.5, 0.5]       # coeficientes de y\n",
    "\n",
    "# Obtener respuesta en frecuencia\n",
    "w, h = signal.freqz(b, a)  # w es la frecuencia normalizada, h es la respuesta compleja\n",
    "\n",
    "# Graficar magnitud en dB\n",
    "plt.figure()\n",
    "plt.plot(w/np.pi, 20*np.log10(np.abs(h)))  # Normalizamos frecuencia entre 0 y 1 (pi rad)\n",
    "plt.title('Magnitud de la respuesta en frecuencia')\n",
    "plt.xlabel('Frecuencia normalizada [×π rad/muestra]')\n",
    "plt.ylabel('Magnitud [dB]')\n",
    "plt.grid()\n",
    "plt.show()\n",
    "\n",
    "# Graficar fase\n",
    "plt.figure()\n",
    "plt.plot(w/np.pi, np.angle(h))\n",
    "plt.title('Fase de la respuesta en frecuencia')\n",
    "plt.xlabel('Frecuencia normalizada [×π rad/muestra]')\n",
    "plt.ylabel('Fase [rad]')\n",
    "plt.grid()\n",
    "plt.show()"
   ]
  },
  {
   "cell_type": "markdown",
   "id": "f01d6786-e995-47c7-bba7-8b701bdea616",
   "metadata": {},
   "source": [
    "## Conclusiones"
   ]
  },
  {
   "cell_type": "markdown",
   "id": "70d3be20-9d6e-44e5-ad74-932ed75e378e",
   "metadata": {},
   "source": [
    "#### En el primer gráfico se observa claramente el efecto del desparramo espectral. La señal perfectamente alineada con la frecuencia de muestreo concentra toda su energía en un único pico definido, mientras que las señales con una ligera desintonía presentan un ensanchamiento en el espectro. Esto hace que su energía no quede localizada en un solo bin de la DFT, sino que se distribuya entre frecuencias vecinas, mostrando cómo pequeñas diferencias de frecuencia generan cambios significativos en la representación espectral.\n",
    "\n",
    "#### En las gráficas siguientes se comparan los espectros obtenidos con y sin la técnica de zero padding. Puede verse que:\n",
    "\n",
    "#### Cuando la frecuencia coincide exactamente con un múltiplo de la resolución espectral, el zero padding no cambia el contenido, solo hace más suave y detallada la curva alrededor del pico.\n",
    "\n",
    "#### En los casos con desintonía, el zero padding no elimina el desparramo espectral, pero permite observarlo con mucha más resolución. Esto hace visibles las diferencias en la forma y amplitud de las “colas” que se generan alrededor del pico principal.Por lo que vemos que zero padding no modifica la información de la señal, pero sí mejora la representación gráfica del espectro, facilitando la interpretación de los efectos de desintonía.\n",
    "\n",
    "#### Despues he realizado el Bonus y pude analizar tanto su magnitud como su fase:\n",
    "\n",
    "#### Magnitud (arriba): Se observa que el sistema atenúa progresivamente las frecuencias a medida que aumentan. En particular, alrededor de la frecuencia normalizada ≈ 0.8, aparece un “cero” muy marcado, lo que indica que el sistema prácticamente elimina esa componente de frecuencia. En bajas frecuencias la ganancia es mayor, por lo que el sistema refuerza esas componentes.\n",
    "\n",
    "#### Fase (abajo): La fase varía de manera continua con la frecuencia, mostrando un retardo creciente. En el punto donde aparece el cero en la magnitud (≈ 0.8), se da un cambio brusco de fase, lo que es característico de filtros con polos y ceros cercanos al eje unitario."
   ]
  },
  {
   "cell_type": "markdown",
   "id": "e4f221f2-b0f6-4fa8-81be-dc00feb23d38",
   "metadata": {},
   "source": [
    "## Autoevaluacion del aprendizaje"
   ]
  },
  {
   "cell_type": "markdown",
   "id": "39372202-fb75-4f64-b365-f7a6331eb8f5",
   "metadata": {},
   "source": [
    "#### Personalmente es un trabajo que disfrute hacer porque pude ver plasmado muchos de los conceptos vistos en la teorica. Pude aprender a realizar la transformada de manera practica y poder graficarlo comprendiend mejor el concepto de resolucion en frecuencia y saber mejor la identidad de parseval pudiendo demostrarla, ademas poder entender las complicaciones que trae llevar a todo a la practica, la tecnica del zero padding fue especialmente complicada para mi por no ppder entender claramente lo que veia pero con un poco de explicacion del profesor y estudio pude entenderlo, ademas me encanto el bonus poque no solo pude comprender y ver con mis ojos la respuesta en freceucnai de un sistema sino que tambien pued utilizar conceptos de la tarea anterior "
   ]
  }
 ],
 "metadata": {
  "kernelspec": {
   "display_name": "Python 3 (ipykernel)",
   "language": "python",
   "name": "python3"
  },
  "language_info": {
   "codemirror_mode": {
    "name": "ipython",
    "version": 3
   },
   "file_extension": ".py",
   "mimetype": "text/x-python",
   "name": "python",
   "nbconvert_exporter": "python",
   "pygments_lexer": "ipython3",
   "version": "3.11.9"
  }
 },
 "nbformat": 4,
 "nbformat_minor": 5
}
